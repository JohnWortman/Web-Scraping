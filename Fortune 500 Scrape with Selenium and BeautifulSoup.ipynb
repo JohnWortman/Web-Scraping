{
 "cells": [
  {
   "cell_type": "code",
   "execution_count": 9,
   "metadata": {},
   "outputs": [],
   "source": [
    "from selenium import webdriver\n",
    "from selenium.webdriver.common.by import By\n",
    "from selenium.webdriver.support.ui import WebDriverWait\n",
    "from selenium.webdriver.support import expected_conditions as EC\n",
    "from selenium.common.exceptions import TimeoutException\n",
    "from bs4 import BeautifulSoup\n",
    "import re"
   ]
  },
  {
   "cell_type": "code",
   "execution_count": 10,
   "metadata": {},
   "outputs": [],
   "source": [
    "# opening the webpage in a chrome browser\n",
    "# path to chromedrive is unique\n",
    "driver = webdriver.Chrome(executable_path=r'C:\\Users\\johnw\\Desktop\\Python\\Chromedriver\\chromedriver_win32\\chromedriver')\n",
    "url = 'https://fortune.com/fortune500/2019/search/'\n",
    "source = driver.get(url)"
   ]
  },
  {
   "cell_type": "code",
   "execution_count": 11,
   "metadata": {},
   "outputs": [],
   "source": [
    "# allow some time for the webpage to load\n",
    "driver.implicitly_wait(10)"
   ]
  },
  {
   "cell_type": "code",
   "execution_count": 12,
   "metadata": {},
   "outputs": [],
   "source": [
    "# if ad pops up, select \"No, Thanks\" on the sign-up screen\n",
    "try:\n",
    "    driver.find_element_by_xpath('//*[@id=\"bx-element-1186146-JWp4eVy\"]/button').click()\n",
    "except:\n",
    "    pass"
   ]
  },
  {
   "cell_type": "code",
   "execution_count": 13,
   "metadata": {},
   "outputs": [
    {
     "name": "stdout",
     "output_type": "stream",
     "text": [
      "Selecting page length: 100 Rows\n"
     ]
    }
   ],
   "source": [
    "fortune_500 = []\n",
    "\n",
    "# our function for scraping all the table data\n",
    "def scrape():\n",
    "    # load in the html for each page\n",
    "    html = driver.page_source\n",
    "    soup = BeautifulSoup(html, 'lxml')\n",
    "    # scrape table data from webpage\n",
    "    for class_ in soup.find_all('div', class_ = 'rt-tr-group'):\n",
    "        fortune_500.append(class_.text)\n",
    "\n",
    "        \n",
    "# our function to expand the page to 100 companies        \n",
    "# row options are in the 4th <select> tag\n",
    "# loop through all the options and see if they are \"100 Rows\"\n",
    "# if True, click the element\n",
    "rows = driver.find_elements_by_tag_name('select')\n",
    "rows_100 = rows[4].find_elements_by_tag_name('option')\n",
    "for row in rows_100:\n",
    "    if row.text == '100 Rows':\n",
    "        print('Selecting page length: ' + row.text)\n",
    "        row.click()\n"
   ]
  },
  {
   "cell_type": "code",
   "execution_count": 14,
   "metadata": {},
   "outputs": [
    {
     "data": {
      "text/plain": [
       "['1Walmart$514,405.02.8%$6,670.0-32.4%$219,295.0$279,880.3-2,200,000-',\n",
       " '2Exxon Mobil$290,212.018.8%$20,840.05.7%$346,196.0$342,172.0-71,000-',\n",
       " '3Apple$265,595.015.9%$59,531.023.1%$365,725.0$895,667.41132,0001',\n",
       " '4Berkshire Hathaway$247,837.02.4%$4,021.0-91.1%$707,794.0$493,870.3-1389,000-1',\n",
       " '5Amazon.com$232,887.030.9%$10,073.0232.1%$162,648.0$874,709.53647,5003',\n",
       " '6UnitedHealth Group$226,247.012.5%$11,986.013.5%$152,221.0$237,255.5-1300,000-1',\n",
       " '7McKesson$208,357.04.9%$67.0-98.7%$60,381.0$22,455.1-168,000-1',\n",
       " '8CVS Health$194,579.05.3%$-594.0-109.0%$196,456.0$69,951.6-1295,000-1',\n",
       " '9AT&T$170,756.06.4%$19,370.0-34.2%$531,864.0$228,444.7-268,220-',\n",
       " '10AmerisourceBergen$167,939.69.7%$1,658.4355.0%$37,669.8$16,785.9220,5002']"
      ]
     },
     "execution_count": 14,
     "metadata": {},
     "output_type": "execute_result"
    }
   ],
   "source": [
    "# loops through 5 pages to get the fortune 500 data\n",
    "# find button --> scrape data --> click buttion\n",
    "for i in range(0, 5):\n",
    "    for button in driver.find_elements_by_class_name('-next'):\n",
    "        if button.text == 'NEXT':\n",
    "            scrape()\n",
    "            button.click()\n",
    "            \n",
    "#close the browser when done \n",
    "driver.close()\n",
    "\n",
    "#display the data\n",
    "fortune_500[0:10]"
   ]
  },
  {
   "cell_type": "code",
   "execution_count": 58,
   "metadata": {},
   "outputs": [
    {
     "data": {
      "text/plain": [
       "['1', '2', '3', '4', '5', '6', '7', '8', '9', '10']"
      ]
     },
     "execution_count": 58,
     "metadata": {},
     "output_type": "execute_result"
    }
   ],
   "source": [
    "# here we can perform some regex to separate our strings into different lists\n",
    "rank = []\n",
    "name = []\n",
    "rev_MM = []\n",
    "rev_pct_change = []\n",
    "profit_MM = []\n",
    "profit_pct_change = []\n",
    "assets = []\n",
    "mkt_value_MM = []\n",
    "rank_change_1000 = []\n",
    "employees = []\n",
    "rank_change_500 = []\n",
    "\n",
    "\n",
    "for company in fortune_500[0:10]:\n",
    "    match = re.match('\\d+', company)\n",
    "    rank.append(match[0])\n",
    "#     etc, etc\n",
    "\n",
    "rank"
   ]
  },
  {
   "cell_type": "code",
   "execution_count": null,
   "metadata": {},
   "outputs": [],
   "source": []
  }
 ],
 "metadata": {
  "kernelspec": {
   "display_name": "Python 3",
   "language": "python",
   "name": "python3"
  }
 },
 "nbformat": 4,
 "nbformat_minor": 4
}
